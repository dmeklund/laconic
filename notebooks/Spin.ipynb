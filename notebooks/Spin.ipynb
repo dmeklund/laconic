{
 "cells": [
  {
   "cell_type": "code",
   "execution_count": null,
   "metadata": {},
   "outputs": [],
   "source": [
    "using Revise\n",
    "using Laconic\n",
    "using Laconic.SpinM\n",
    "using Latexify\n",
    "using LaTeXStrings\n",
    "using LinearAlgebra"
   ]
  },
  {
   "cell_type": "code",
   "execution_count": null,
   "metadata": {},
   "outputs": [],
   "source": [
    "spin = Spin(1//2)\n",
    "S_x = sx(spin)\n",
    "S_y = sy(spin)\n",
    "S_z = sz(spin)\n",
    "display(latexify(:(S_x=$(S_x.matrix))))\n",
    "display(latexify(:(S_y=$(S_y.matrix))))\n",
    "display(latexify(:(S_z=$(S_z.matrix))))\n",
    "@assert S_x.matrix == 1//2 * σ_x\n",
    "@assert S_y.matrix == 1//2 * σ_y\n",
    "@assert S_z.matrix == 1//2 * σ_z\n"
   ]
  },
  {
   "cell_type": "code",
   "execution_count": 3,
   "metadata": {},
   "outputs": [],
   "source": [
    "for n in 1:1000\n",
    "    spin = Spin(n//2)\n",
    "    S_x = sx(spin)\n",
    "    S_y = sy(spin)\n",
    "    S_z = sz(spin)\n",
    "    out = commutator(S_x, S_y).matrix\n",
    "    @assert out ≈ im*S_z.matrix\n",
    "    @assert (S_x*S_x + S_y*S_y + S_z*S_z).matrix ≈ n//2 * (n//2 + 1)I\n",
    "end"
   ]
  },
  {
   "cell_type": "code",
   "execution_count": null,
   "metadata": {},
   "outputs": [],
   "source": []
  },
  {
   "cell_type": "code",
   "execution_count": null,
   "metadata": {},
   "outputs": [],
   "source": []
  }
 ],
 "metadata": {
  "kernelspec": {
   "display_name": "Julia 1.3.0",
   "language": "julia",
   "name": "julia-1.3"
  },
  "language_info": {
   "file_extension": ".jl",
   "mimetype": "application/julia",
   "name": "julia",
   "version": "1.3.0"
  }
 },
 "nbformat": 4,
 "nbformat_minor": 2
}
