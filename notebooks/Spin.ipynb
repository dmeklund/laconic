{
 "cells": [
  {
   "cell_type": "code",
   "execution_count": 1,
   "metadata": {},
   "outputs": [
    {
     "name": "stderr",
     "output_type": "stream",
     "text": [
      "┌ Info: Recompiling stale cache file /home/david/.julia/compiled/v1.2/Latexify/AItXo.ji for Latexify [23fbe1c1-3f47-55db-b15f-69d7ec21a316]\n",
      "└ @ Base loading.jl:1240\n"
     ]
    }
   ],
   "source": [
    "using Revise\n",
    "using Laconic.SpinM\n",
    "using Latexify\n",
    "using LaTeXStrings"
   ]
  },
  {
   "cell_type": "code",
   "execution_count": 5,
   "metadata": {},
   "outputs": [
    {
     "data": {
      "text/latex": [
       "$S_{x} = \\left[\n",
       "\\begin{array}{cc}\n",
       "0.0+0.0\\textit{i} & 0.5+0.0\\textit{i} \\\\\n",
       "0.5+0.0\\textit{i} & 0.0+0.0\\textit{i} \\\\\n",
       "\\end{array}\n",
       "\\right]$"
      ],
      "text/plain": [
       "L\"$S_{x} = \\left[\n",
       "\\begin{array}{cc}\n",
       "0.0+0.0\\textit{i} & 0.5+0.0\\textit{i} \\\\\n",
       "0.5+0.0\\textit{i} & 0.0+0.0\\textit{i} \\\\\n",
       "\\end{array}\n",
       "\\right]$\""
      ]
     },
     "metadata": {},
     "output_type": "display_data"
    },
    {
     "data": {
      "text/latex": [
       "$S_{y} = \\left[\n",
       "\\begin{array}{cc}\n",
       "0.0+0.0\\textit{i} & 0.0-0.5\\textit{i} \\\\\n",
       "0.0+0.5\\textit{i} & 0.0+0.0\\textit{i} \\\\\n",
       "\\end{array}\n",
       "\\right]$"
      ],
      "text/plain": [
       "L\"$S_{y} = \\left[\n",
       "\\begin{array}{cc}\n",
       "0.0+0.0\\textit{i} & 0.0-0.5\\textit{i} \\\\\n",
       "0.0+0.5\\textit{i} & 0.0+0.0\\textit{i} \\\\\n",
       "\\end{array}\n",
       "\\right]$\""
      ]
     },
     "metadata": {},
     "output_type": "display_data"
    },
    {
     "data": {
      "text/latex": [
       "$S_{z} = \\left[\n",
       "\\begin{array}{cc}\n",
       "0.5+0.0\\textit{i} & 0.0+0.0\\textit{i} \\\\\n",
       "0.0+0.0\\textit{i} & -0.5+0.0\\textit{i} \\\\\n",
       "\\end{array}\n",
       "\\right]$"
      ],
      "text/plain": [
       "L\"$S_{z} = \\left[\n",
       "\\begin{array}{cc}\n",
       "0.5+0.0\\textit{i} & 0.0+0.0\\textit{i} \\\\\n",
       "0.0+0.0\\textit{i} & -0.5+0.0\\textit{i} \\\\\n",
       "\\end{array}\n",
       "\\right]$\""
      ]
     },
     "metadata": {},
     "output_type": "display_data"
    }
   ],
   "source": [
    "spin = Spin(1//2)\n",
    "S_x = sx(spin)\n",
    "S_y = sy(spin)\n",
    "S_z = sz(spin)\n",
    "display(latexify(:(S_x=$(S_x.matrix))))\n",
    "display(latexify(:(S_y=$(S_y.matrix))))\n",
    "display(latexify(:(S_z=$(S_z.matrix))))\n",
    "@assert S_x.matrix == 1//2 * σ_x\n",
    "@assert S_y.matrix == 1//2 * σ_y\n",
    "@assert S_z.matrix == 1//2 * σ_z"
   ]
  },
  {
   "cell_type": "code",
   "execution_count": 45,
   "metadata": {},
   "outputs": [
    {
     "data": {
      "text/latex": [
       "1 + \n",
       "  [2, 1]  =  0.5+0.0im\n",
       "  [1, 2]  =  0.5+0.0im"
      ],
      "text/plain": [
       "L\"1 + \n",
       "  [2, 1]  =  0.5+0.0im\n",
       "  [1, 2]  =  0.5+0.0im\""
      ]
     },
     "execution_count": 45,
     "metadata": {},
     "output_type": "execute_result"
    }
   ],
   "source": [
    "latexraw(:(1+$(S_x.matrix)))"
   ]
  },
  {
   "cell_type": "code",
   "execution_count": 51,
   "metadata": {},
   "outputs": [
    {
     "data": {
      "text/latex": [
       "$x=\\begin{equation}\n",
       "\\left[\n",
       "\\begin{array}{cc}\n",
       "1 & 2 \\\\\n",
       "2 & 1 \\\\\n",
       "\\end{array}\n",
       "\\right]\n",
       "\\end{equation}\n",
       "$"
      ],
      "text/plain": [
       "L\"$x=\\begin{equation}\n",
       "\\left[\n",
       "\\begin{array}{cc}\n",
       "1 & 2 \\\\\n",
       "2 & 1 \\\\\n",
       "\\end{array}\n",
       "\\right]\n",
       "\\end{equation}\n",
       "$\""
      ]
     },
     "execution_count": 51,
     "metadata": {},
     "output_type": "execute_result"
    }
   ],
   "source": [
    "latexstring(\"x=\"*latexify([1 2; 2 1]).s)"
   ]
  },
  {
   "cell_type": "code",
   "execution_count": 35,
   "metadata": {},
   "outputs": [
    {
     "data": {
      "text/latex": [
       "$x = \\frac{1}{2}$"
      ],
      "text/plain": [
       "L\"$x = \\frac{1}{2}$\""
      ]
     },
     "execution_count": 35,
     "metadata": {},
     "output_type": "execute_result"
    }
   ],
   "source": [
    "latexify(:(x=1/2))"
   ]
  },
  {
   "cell_type": "code",
   "execution_count": 41,
   "metadata": {},
   "outputs": [
    {
     "data": {
      "text/latex": [
       "$1 + 2$"
      ],
      "text/plain": [
       "L\"$1 + 2$\""
      ]
     },
     "execution_count": 41,
     "metadata": {},
     "output_type": "execute_result"
    }
   ],
   "source": [
    "latexify(:(1+ 2))"
   ]
  },
  {
   "cell_type": "code",
   "execution_count": 50,
   "metadata": {},
   "outputs": [
    {
     "data": {
      "text/latex": [
       "$x=$\\begin{equation}\n",
       "\\left[\n",
       "\\begin{array}{cc}\n",
       "1 & 2 \\\\\n",
       "\\end{array}\n",
       "\\right]\n",
       "\\end{equation}\n"
      ],
      "text/plain": [
       "L\"$x=$\\begin{equation}\n",
       "\\left[\n",
       "\\begin{array}{cc}\n",
       "1 & 2 \\\\\n",
       "\\end{array}\n",
       "\\right]\n",
       "\\end{equation}\n",
       "\""
      ]
     },
     "execution_count": 50,
     "metadata": {},
     "output_type": "execute_result"
    }
   ],
   "source": [
    "latexstring(\"\\$x=\\$\\\\begin{equation}\\n\\\\left[\\n\\\\begin{array}{cc}\\n1 & 2 \\\\\\\\\\n\\\\end{array}\\n\\\\right]\\n\\\\end{equation}\\n\")"
   ]
  },
  {
   "cell_type": "code",
   "execution_count": 57,
   "metadata": {},
   "outputs": [
    {
     "data": {
      "text/latex": [
       "$x = Complex{Int64}[0 + 1im 0 + 0im; 0 + 0im 1 + 0im]$"
      ],
      "text/plain": [
       "L\"$x = Complex{Int64}[0 + 1im 0 + 0im; 0 + 0im 1 + 0im]$\""
      ]
     },
     "execution_count": 57,
     "metadata": {},
     "output_type": "execute_result"
    }
   ],
   "source": [
    "array = [im 0; 0 1]\n",
    "latexify(:(x=$(array)))"
   ]
  },
  {
   "cell_type": "code",
   "execution_count": 58,
   "metadata": {},
   "outputs": [
    {
     "data": {
      "text/plain": [
       "\"\\$x=\\$\\\\begin{equation}\\n\\\\left[\\n\\\\begin{array}{cc}\\n0+1\\\\textit{i} & 0+0\\\\textit{i} \\\\\\\\\\n0+0\\\\textit{i} & 1+0\\\\textit{i} \\\\\\\\\\n\\\\end{array}\\n\\\\right]\\n\\\\end{equation}\\n\""
      ]
     },
     "execution_count": 58,
     "metadata": {},
     "output_type": "execute_result"
    }
   ],
   "source": [
    "L\"x=\"*latexify(array)"
   ]
  },
  {
   "cell_type": "code",
   "execution_count": 59,
   "metadata": {},
   "outputs": [
    {
     "data": {
      "text/latex": [
       "$x=\\begin{equation}\n",
       "\\left[\n",
       "\\begin{array}{cc}\n",
       "0+1\\textit{i} & 0+0\\textit{i} \\\\\n",
       "0+0\\textit{i} & 1+0\\textit{i} \\\\\n",
       "\\end{array}\n",
       "\\right]\n",
       "\\end{equation}\n",
       "$"
      ],
      "text/plain": [
       "L\"$x=\\begin{equation}\n",
       "\\left[\n",
       "\\begin{array}{cc}\n",
       "0+1\\textit{i} & 0+0\\textit{i} \\\\\n",
       "0+0\\textit{i} & 1+0\\textit{i} \\\\\n",
       "\\end{array}\n",
       "\\right]\n",
       "\\end{equation}\n",
       "$\""
      ]
     },
     "execution_count": 59,
     "metadata": {},
     "output_type": "execute_result"
    }
   ],
   "source": [
    "latexstring(\"x=\"*latexify(array))"
   ]
  },
  {
   "cell_type": "code",
   "execution_count": 61,
   "metadata": {},
   "outputs": [
    {
     "data": {
      "text/latex": [
       "$\\begin{equation}\n",
       "x=\\left[\n",
       "\\begin{array}{cc}\n",
       "0+0\\textit{i} & 0-1\\textit{i} \\\\\n",
       "0+1\\textit{i} & 0+0\\textit{i} \\\\\n",
       "\\end{array}\n",
       "\\right]\n",
       "\\end{equation}\n",
       "$"
      ],
      "text/plain": [
       "L\"$\\begin{equation}\n",
       "x=\\left[\n",
       "\\begin{array}{cc}\n",
       "0+0\\textit{i} & 0-1\\textit{i} \\\\\n",
       "0+1\\textit{i} & 0+0\\textit{i} \\\\\n",
       "\\end{array}\n",
       "\\right]\n",
       "\\end{equation}\n",
       "$\""
      ]
     },
     "execution_count": 61,
     "metadata": {},
     "output_type": "execute_result"
    }
   ],
   "source": [
    "L\"\\begin{equation}\n",
    "x=\\left[\n",
    "\\begin{array}{cc}\n",
    "0+0\\textit{i} & 0-1\\textit{i} \\\\\n",
    "0+1\\textit{i} & 0+0\\textit{i} \\\\\n",
    "\\end{array}\n",
    "\\right]\n",
    "\\end{equation}\n",
    "\"\n"
   ]
  },
  {
   "cell_type": "code",
   "execution_count": null,
   "metadata": {},
   "outputs": [],
   "source": []
  }
 ],
 "metadata": {
  "kernelspec": {
   "display_name": "Julia 1.2.0",
   "language": "julia",
   "name": "julia-1.2"
  },
  "language_info": {
   "file_extension": ".jl",
   "mimetype": "application/julia",
   "name": "julia",
   "version": "1.2.0"
  }
 },
 "nbformat": 4,
 "nbformat_minor": 2
}
