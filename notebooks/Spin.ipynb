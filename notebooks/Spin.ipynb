{
 "cells": [
  {
   "cell_type": "code",
   "execution_count": null,
   "metadata": {},
   "outputs": [],
   "source": [
    "using Revise\n",
    "using Laconic.SpinM"
   ]
  },
  {
   "cell_type": "code",
   "execution_count": 2,
   "metadata": {},
   "outputs": [
    {
     "ename": "MethodError",
     "evalue": "MethodError: no method matching Laconic.Operator{Complex{Float64}}(::String, ::SparseArrays.SparseMatrixCSC{Rational{Int64},Int64}, ::Laconic.Basis{Complex{Float64}})\nClosest candidates are:\n  Laconic.Operator{Complex{Float64}}(::String, ::AbstractArray{T,2}, !Matched::Laconic.Basis{T}) where T at /home/david/workspace/laconic/src/operator.jl:6\n  Laconic.Operator{Complex{Float64}}(::String, !Matched::Laconic.Operator{T}) where T at /home/david/workspace/laconic/src/operator.jl:23",
     "output_type": "error",
     "traceback": [
      "MethodError: no method matching Laconic.Operator{Complex{Float64}}(::String, ::SparseArrays.SparseMatrixCSC{Rational{Int64},Int64}, ::Laconic.Basis{Complex{Float64}})\nClosest candidates are:\n  Laconic.Operator{Complex{Float64}}(::String, ::AbstractArray{T,2}, !Matched::Laconic.Basis{T}) where T at /home/david/workspace/laconic/src/operator.jl:6\n  Laconic.Operator{Complex{Float64}}(::String, !Matched::Laconic.Operator{T}) where T at /home/david/workspace/laconic/src/operator.jl:23",
      "",
      "Stacktrace:",
      " [1] sz(::Spin) at /home/david/workspace/laconic/src/spin.jl:29",
      " [2] top-level scope at In[2]:4"
     ]
    }
   ],
   "source": [
    "spin = Spin(1//2)\n",
    "S_x = sx(spin)\n",
    "S_y = sy(spin)\n",
    "S_z = sz(spin)"
   ]
  },
  {
   "cell_type": "code",
   "execution_count": null,
   "metadata": {},
   "outputs": [],
   "source": []
  }
 ],
 "metadata": {
  "kernelspec": {
   "display_name": "Julia 1.2.0",
   "language": "julia",
   "name": "julia-1.2"
  },
  "language_info": {
   "file_extension": ".jl",
   "mimetype": "application/julia",
   "name": "julia",
   "version": "1.2.0"
  }
 },
 "nbformat": 4,
 "nbformat_minor": 2
}
