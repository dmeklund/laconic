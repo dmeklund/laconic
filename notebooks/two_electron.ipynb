{
 "cells": [
  {
   "cell_type": "code",
   "execution_count": 9,
   "metadata": {},
   "outputs": [],
   "source": [
    "using Revise\n",
    "using Laconic\n",
    "using Laconic.Atom\n",
    "using Laconic.Symbolic\n",
    "using Laconic.Gaussian\n",
    "using Laconic.SystemM"
   ]
  },
  {
   "cell_type": "code",
   "execution_count": 22,
   "metadata": {},
   "outputs": [],
   "source": [
    "cgbfs = []\n",
    "for ind=1:10\n",
    "    push!(cgbfs, ContractedGaussianBasisFunction((0,), (0.,), (ind / 10, 1.0,)))\n",
    "end\n",
    "basis = GaussianBasis(tuple(cgbfs...))\n",
    "basiscombined = kron(basis, basis);"
   ]
  },
  {
   "cell_type": "code",
   "execution_count": 23,
   "metadata": {},
   "outputs": [],
   "source": [
    "builder = IdenticalParticleBuilder(Float64, 2, 10, -1)\n",
    "state = build(builder)\n",
    "setcoeff!(state, (1,5), 1.0)\n",
    "statevec = asvector(state);"
   ]
  },
  {
   "cell_type": "code",
   "execution_count": 31,
   "metadata": {},
   "outputs": [
    {
     "ename": "MethodError",
     "evalue": "MethodError: no method matching nuclearattractionoperator(::GaussianBasis{10,1}, ::Tuple{Float64})\nClosest candidates are:\n  nuclearattractionoperator(::GaussianBasis{M,N}, !Matched::Tuple{N,Float64}) where {M, N} at /home/david/workspace/laconic/src/gaussian.jl:626",
     "output_type": "error",
     "traceback": [
      "MethodError: no method matching nuclearattractionoperator(::GaussianBasis{10,1}, ::Tuple{Float64})\nClosest candidates are:\n  nuclearattractionoperator(::GaussianBasis{M,N}, !Matched::Tuple{N,Float64}) where {M, N} at /home/david/workspace/laconic/src/gaussian.jl:626",
      "",
      "Stacktrace:",
      " [1] top-level scope at In[31]:3"
     ]
    }
   ],
   "source": [
    "kin1 = kron(kineticenergyoperator(basis), identity(basis))\n",
    "kin2 = kron(identity(basis), kineticenergyoperator(basis))\n",
    "nuc1 = kron(nuclearattractionoperator(basis, (0.,)), identity(basis))\n",
    "nuc2 = kron(identity(basis), nuclearattractionoperator(basis, (0.,)))\n",
    "repulsion = coulomboperator(basiscombined)\n",
    "hamiltonian = kin1 + kin2 + nuc1 + nuc2 + repulsion;"
   ]
  },
  {
   "cell_type": "code",
   "execution_count": 33,
   "metadata": {},
   "outputs": [
    {
     "ename": "MethodError",
     "evalue": "MethodError: no method matching nuclearattractionoperator(::GaussianBasis{10,1}, ::Tuple{Float64})\nClosest candidates are:\n  nuclearattractionoperator(::GaussianBasis{M,N}, !Matched::Tuple{N,Float64}) where {M, N} at /home/david/workspace/laconic/src/gaussian.jl:626",
     "output_type": "error",
     "traceback": [
      "MethodError: no method matching nuclearattractionoperator(::GaussianBasis{10,1}, ::Tuple{Float64})\nClosest candidates are:\n  nuclearattractionoperator(::GaussianBasis{M,N}, !Matched::Tuple{N,Float64}) where {M, N} at /home/david/workspace/laconic/src/gaussian.jl:626",
      "",
      "Stacktrace:",
      " [1] top-level scope at In[33]:1"
     ]
    }
   ],
   "source": [
    "nuclearattractionoperator(basis, ntuple(n->0., 1))"
   ]
  },
  {
   "cell_type": "code",
   "execution_count": null,
   "metadata": {},
   "outputs": [],
   "source": []
  }
 ],
 "metadata": {
  "@webio": {
   "lastCommId": null,
   "lastKernelId": null
  },
  "kernelspec": {
   "display_name": "Julia 1.4.0",
   "language": "julia",
   "name": "julia-1.4"
  },
  "language_info": {
   "file_extension": ".jl",
   "mimetype": "application/julia",
   "name": "julia",
   "version": "1.4.0"
  }
 },
 "nbformat": 4,
 "nbformat_minor": 2
}
