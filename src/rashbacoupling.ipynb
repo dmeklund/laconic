{
 "cells": [
  {
   "cell_type": "code",
   "execution_count": 42,
   "metadata": {},
   "outputs": [
    {
     "data": {
      "text/plain": [
       "-0.4803921568627451:0.0196078431372549:0.4803921568627451"
      ]
     },
     "execution_count": 42,
     "metadata": {},
     "output_type": "execute_result"
    }
   ],
   "source": [
    "using SparseArrays\n",
    "using LinearAlgebra\n",
    "import FFTW\n",
    "# natural units\n",
    "a=m=hbar=1\n",
    "# spatial grid: -a/2 < x < a/2\n",
    "nmax=50\n",
    "xgrid=a*(range(1,length=nmax)/(nmax+1) .- .5)"
   ]
  },
  {
   "cell_type": "code",
   "execution_count": 106,
   "metadata": {},
   "outputs": [
    {
     "data": {
      "text/plain": [
       "2×2 SparseMatrixCSC{Int64,Int64} with 2 stored entries:\n",
       "  [1, 1]  =  1\n",
       "  [2, 2]  =  1"
      ]
     },
     "execution_count": 106,
     "metadata": {},
     "output_type": "execute_result"
    }
   ],
   "source": [
    "# momentum operator\n",
    "pM=spzeros(Complex{Float64}, nmax, nmax)\n",
    "for row in 1:nmax\n",
    "    for col in 1:nmax\n",
    "        if ((row - col) % 2) == 0\n",
    "            pM[row,col]=0\n",
    "        else\n",
    "            pM[row,col] = 4im*hbar*row*col/(a*(col*col-row*row))\n",
    "        end\n",
    "    end\n",
    "end\n",
    "# identity operator\n",
    "idM = sparse(I,nmax,nmax)\n",
    "# kinetic operator in momentum basis\n",
    "TM = spdiagm(0=>pi^2*hbar^2/(2*m*a^2)*range(1,length=nmax).^2)\n",
    "# position operator in the position representation\n",
    "xP = spdiagm(0=>xgrid)\n",
    "# position operator in the momentum representation\n",
    "xM = FFTW.r2r(xP, FFTW.RODFT00)/(2*(nmax+1))\n",
    "# projection operator in position and momentum representations\n",
    "PiP(n::Integer) = sparse([n],[n],[1],nmax,nmax)\n",
    "PiM(n::Integer) = FFTW.r2r(PiP(n), FFTW.RODFT00)/(2*(nmax+1))\n",
    "# spin 1/2 (todo: use generic spin generators)\n",
    "sx = sparse([0 .5; .5 0])\n",
    "sy = sparse([0 -.5; .5 0])\n",
    "sz = sparse([.5 0; 0 -.5])\n",
    "idS = sparse([1 0; 0 1])"
   ]
  },
  {
   "cell_type": "code",
   "execution_count": 108,
   "metadata": {},
   "outputs": [
    {
     "data": {
      "text/plain": [
       "5000×5000 SparseMatrixCSC{Complex{Float64},Int64} with 255000 stored entries:\n",
       "  [1   ,    1]  =  4.9848+0.0im\n",
       "  [4   ,    1]  =  0.0+0.266667im\n",
       "  [8   ,    1]  =  0.0+0.106667im\n",
       "  [12  ,    1]  =  0.0+0.0685714im\n",
       "  [16  ,    1]  =  0.0+0.0507937im\n",
       "  [20  ,    1]  =  0.0+0.040404im\n",
       "  [24  ,    1]  =  0.0+0.0335664im\n",
       "  [28  ,    1]  =  0.0+0.0287179im\n",
       "  [32  ,    1]  =  0.0+0.025098im\n",
       "  [36  ,    1]  =  0.0+0.022291im\n",
       "  [40  ,    1]  =  0.0+0.0200501im\n",
       "  [44  ,    1]  =  0.0+0.0182195im\n",
       "  ⋮\n",
       "  [4957, 5000]  =  0.0-0.349608im\n",
       "  [4961, 5000]  =  0.0-0.402859im\n",
       "  [4965, 5000]  =  0.0-0.467753im\n",
       "  [4969, 5000]  =  0.0-0.54902im\n",
       "  [4973, 5000]  =  0.0-0.654288im\n",
       "  [4977, 5000]  =  0.0-0.796731im\n",
       "  [4981, 5000]  =  0.0-1.00122im\n",
       "  [4985, 5000]  =  0.0-1.32104im\n",
       "  [4989, 5000]  =  0.0-1.89474im\n",
       "  [4993, 5000]  =  0.0-3.23024im\n",
       "  [4997, 5000]  =  0.0-9.89899im\n",
       "  [5000, 5000]  =  12337.0+0.0im"
      ]
     },
     "execution_count": 108,
     "metadata": {},
     "output_type": "execute_result"
    }
   ],
   "source": [
    "# Hamiltonian in momentum basis\n",
    "HM(delta, alpha) = kron(TM, idM, idS) + delta*kron(idM, idM, sz) + alpha*(kron(pM, idM, sy) - kron(idM, pM, sx))\n",
    "# ground state\n",
    "gs(delta, alpha) = -eig"
   ]
  },
  {
   "cell_type": "code",
   "execution_count": 73,
   "metadata": {},
   "outputs": [
    {
     "data": {
      "text/plain": [
       "0.009999999999999998"
      ]
     },
     "execution_count": 73,
     "metadata": {},
     "output_type": "execute_result"
    }
   ],
   "source": [
    "1/50/sqrt(2)/sqrt(2)"
   ]
  },
  {
   "cell_type": "code",
   "execution_count": 104,
   "metadata": {},
   "outputs": [
    {
     "data": {
      "text/plain": [
       "1"
      ]
     },
     "execution_count": 104,
     "metadata": {},
     "output_type": "execute_result"
    }
   ],
   "source": [
    "1%2"
   ]
  },
  {
   "cell_type": "code",
   "execution_count": 105,
   "metadata": {},
   "outputs": [
    {
     "data": {
      "text/plain": [
       "0"
      ]
     },
     "execution_count": 105,
     "metadata": {},
     "output_type": "execute_result"
    }
   ],
   "source": [
    "0%2\n"
   ]
  },
  {
   "cell_type": "code",
   "execution_count": null,
   "metadata": {},
   "outputs": [],
   "source": []
  }
 ],
 "metadata": {
  "kernelspec": {
   "display_name": "Julia 1.1.0",
   "language": "julia",
   "name": "julia-1.1"
  },
  "language_info": {
   "file_extension": ".jl",
   "mimetype": "application/julia",
   "name": "julia",
   "version": "1.1.0"
  }
 },
 "nbformat": 4,
 "nbformat_minor": 2
}
