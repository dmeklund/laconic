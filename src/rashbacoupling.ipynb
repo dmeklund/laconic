{
 "cells": [
  {
   "cell_type": "code",
   "execution_count": 1,
   "metadata": {},
   "outputs": [
    {
     "ename": "ArgumentError",
     "evalue": "ArgumentError: Package Arpack not found in current path:\n- Run `import Pkg; Pkg.add(\"Arpack\")` to install the Arpack package.\n",
     "output_type": "error",
     "traceback": [
      "ArgumentError: Package Arpack not found in current path:\n- Run `import Pkg; Pkg.add(\"Arpack\")` to install the Arpack package.\n",
      "",
      "Stacktrace:",
      " [1] require(::Module, ::Symbol) at ./loading.jl:876",
      " [2] top-level scope at In[1]:3"
     ]
    }
   ],
   "source": [
    "using SparseArrays\n",
    "using LinearAlgebra\n",
    "using Arpack\n",
    "import FFTW\n",
    "# natural units\n",
    "a=m=hbar=1\n",
    "# spatial grid: -a/2 < x < a/2\n",
    "nmax=50\n",
    "xgrid=a*(range(1,length=nmax)/(nmax+1) .- .5)"
   ]
  },
  {
   "cell_type": "code",
   "execution_count": 3,
   "metadata": {},
   "outputs": [
    {
     "data": {
      "text/plain": [
       "2×2 SparseMatrixCSC{Int64,Int64} with 2 stored entries:\n",
       "  [1, 1]  =  1\n",
       "  [2, 2]  =  1"
      ]
     },
     "execution_count": 3,
     "metadata": {},
     "output_type": "execute_result"
    }
   ],
   "source": [
    "# momentum operator\n",
    "pM=spzeros(Complex{Float64}, nmax, nmax)\n",
    "for row in 1:nmax\n",
    "    for col in 1:nmax\n",
    "        if ((row - col) % 2) == 0\n",
    "            pM[row,col]=0\n",
    "        else\n",
    "            pM[row,col] = 4im*hbar*row*col/(a*(col*col-row*row))\n",
    "        end\n",
    "    end\n",
    "end\n",
    "# identity operator\n",
    "idM = sparse(I,nmax,nmax)\n",
    "# kinetic operator in momentum basis\n",
    "TM = spdiagm(0=>pi^2*hbar^2/(2*m*a^2)*range(1,length=nmax).^2)\n",
    "# position operator in the position representation\n",
    "xP = spdiagm(0=>xgrid)\n",
    "# position operator in the momentum representation\n",
    "xM = FFTW.r2r(xP, FFTW.RODFT00)/(2*(nmax+1))\n",
    "# projection operator in position and momentum representations\n",
    "PiP(n::Integer) = sparse([n],[n],[1],nmax,nmax)\n",
    "PiM(n::Integer) = FFTW.r2r(PiP(n), FFTW.RODFT00)/(2*(nmax+1))\n",
    "# spin 1/2 (todo: use generic spin generators)\n",
    "sx = sparse([0 .5; .5 0])\n",
    "sy = sparse([0 -.5; .5 0])\n",
    "sz = sparse([.5 0; 0 -.5])\n",
    "idS = sparse([1 0; 0 1])"
   ]
  },
  {
   "cell_type": "code",
   "execution_count": 4,
   "metadata": {},
   "outputs": [
    {
     "data": {
      "text/plain": [
       "gs (generic function with 1 method)"
      ]
     },
     "execution_count": 4,
     "metadata": {},
     "output_type": "execute_result"
    }
   ],
   "source": [
    "# Hamiltonian in momentum basis\n",
    "HM(delta, alpha) = kron(TM, idM, idS) + kron(idM, TM, idS) + delta*kron(idM, idM, sz) + alpha*(kron(pM, idM, sy) - kron(idM, pM, sx))\n",
    "# ground state\n",
    "gs(delta, alpha) = eigs(HM(delta, alpha), nev=1, which=:SR)"
   ]
  },
  {
   "cell_type": "code",
   "execution_count": 5,
   "metadata": {},
   "outputs": [
    {
     "data": {
      "text/plain": [
       "5000×1 Array{Complex{Float64},2}:\n",
       "   3.642050773923621e-12 - 1.385951380676529e-12im \n",
       "      0.1014863735585993 - 0.0033670900673521778im \n",
       "   -0.013419399159065431 - 0.40446977323089917im   \n",
       "  -5.619461374831026e-12 - 1.4678614860512184e-11im\n",
       "  -2.265396075489369e-11 + 8.688451679661158e-12im \n",
       "     -0.6340707378814023 + 0.021037043778926522im  \n",
       "    0.018716555617278984 + 0.5641296541264014im    \n",
       "   7.809991587307295e-12 + 2.032924982641788e-11im \n",
       "  1.0177828655670217e-11 - 3.919551998569373e-12im \n",
       "     0.28450082960861256 - 0.009439098904979093im  \n",
       "   -0.001281890756754963 - 0.03863705502356507im   \n",
       "  -5.418201197951602e-13 - 1.3905894663975096e-12im\n",
       "  1.3993029997394474e-12 - 5.359432325501265e-13im \n",
       "                         ⋮                         \n",
       "  -2.367748834172592e-11 - 7.136556117585847e-10im \n",
       "   5.878090034811293e-18 - 1.5559159335008956e-17im\n",
       "   3.761506115000529e-18 - 3.121680821580155e-18im \n",
       "   1.3778468213122191e-9 - 4.571386665565719e-11im \n",
       " -1.1103856600945522e-11 - 3.346786719065644e-10im \n",
       "  1.6007343873810854e-17 - 1.643230397470854e-17im \n",
       "  -5.138546777816563e-20 - 1.0887303142549846e-17im\n",
       "    1.328053228187215e-9 - 4.406181180523977e-11im \n",
       " -1.8341516567882367e-12 - 5.528296532330107e-11im \n",
       "  3.5604805894673135e-17 + 2.4530983305564884e-17im\n",
       "   6.983450056103292e-17 - 3.062662398243972e-17im \n",
       "   1.4370304468181762e-9 - 4.7677444225963366e-11im"
      ]
     },
     "execution_count": 5,
     "metadata": {},
     "output_type": "execute_result"
    }
   ],
   "source": [
    "gamma=gs(1,20)[2]\n",
    "#HM(1,20)[1,52]"
   ]
  },
  {
   "cell_type": "code",
   "execution_count": 6,
   "metadata": {},
   "outputs": [
    {
     "data": {
      "text/plain": [
       "-9.186428575102775e-14 - 6.058451752097371e-28im"
      ]
     },
     "execution_count": 6,
     "metadata": {},
     "output_type": "execute_result"
    }
   ],
   "source": [
    "X = dot(gamma, kron(xM, idM, idS) * gamma)"
   ]
  },
  {
   "cell_type": "code",
   "execution_count": 7,
   "metadata": {},
   "outputs": [
    {
     "data": {
      "text/plain": [
       "0.03821209864844788 + 2.168404344971009e-19im"
      ]
     },
     "execution_count": 7,
     "metadata": {},
     "output_type": "execute_result"
    }
   ],
   "source": [
    "XX=dot(gamma, kron(xM*xM, idM, idS) * gamma)"
   ]
  },
  {
   "cell_type": "code",
   "execution_count": 9,
   "metadata": {},
   "outputs": [
    {
     "data": {
      "text/plain": [
       "-0.0006128196231475039 - 1.3552527156068805e-20im"
      ]
     },
     "execution_count": 9,
     "metadata": {},
     "output_type": "execute_result"
    }
   ],
   "source": [
    "YY=dot(gamma, kron(xM, xM, idS) * gamma)"
   ]
  },
  {
   "cell_type": "code",
   "execution_count": null,
   "metadata": {},
   "outputs": [],
   "source": [
    "rdm(psiABC, dA, dB, dC)"
   ]
  }
 ],
 "metadata": {
  "kernelspec": {
   "display_name": "Julia 1.3.0",
   "language": "julia",
   "name": "julia-1.3"
  },
  "language_info": {
   "file_extension": ".jl",
   "mimetype": "application/julia",
   "name": "julia",
   "version": "1.3.0"
  }
 },
 "nbformat": 4,
 "nbformat_minor": 2
}
